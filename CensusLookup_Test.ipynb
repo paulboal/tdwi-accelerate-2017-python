{
 "cells": [
  {
   "cell_type": "code",
   "execution_count": 1,
   "metadata": {
    "collapsed": true
   },
   "outputs": [],
   "source": [
    "from CensusLookup import CensusLookup"
   ]
  },
  {
   "cell_type": "code",
   "execution_count": 2,
   "metadata": {
    "collapsed": false
   },
   "outputs": [],
   "source": [
    "lkp = CensusLookup()"
   ]
  },
  {
   "cell_type": "code",
   "execution_count": 3,
   "metadata": {
    "collapsed": false
   },
   "outputs": [],
   "source": [
    "census = lkp.get_data()"
   ]
  },
  {
   "cell_type": "code",
   "execution_count": 4,
   "metadata": {
    "collapsed": false
   },
   "outputs": [
    {
     "data": {
      "text/plain": [
       "Id                                                                                                                                    8600000US82601\n",
       "Id2                                                                                                                                            82601\n",
       "Geography                                                                                                                                ZCTA5 82601\n",
       "Number; SEX AND AGE - Total population                                                                                                         27400\n",
       "Percent; SEX AND AGE - Total population                                                                                                        100.0\n",
       "Number; SEX AND AGE - Total population - Under 5 years                                                                                          1921\n",
       "Percent; SEX AND AGE - Total population - Under 5 years                                                                                          7.0\n",
       "Number; SEX AND AGE - Total population - 5 to 9 years                                                                                           1861\n",
       "Percent; SEX AND AGE - Total population - 5 to 9 years                                                                                           6.8\n",
       "Number; SEX AND AGE - Total population - 10 to 14 years                                                                                         1655\n",
       "Percent; SEX AND AGE - Total population - 10 to 14 years                                                                                         6.0\n",
       "Number; SEX AND AGE - Total population - 15 to 19 years                                                                                         1937\n",
       "Percent; SEX AND AGE - Total population - 15 to 19 years                                                                                         7.1\n",
       "Number; SEX AND AGE - Total population - 20 to 24 years                                                                                         2106\n",
       "Percent; SEX AND AGE - Total population - 20 to 24 years                                                                                         7.7\n",
       "Number; SEX AND AGE - Total population - 25 to 29 years                                                                                         2300\n",
       "Percent; SEX AND AGE - Total population - 25 to 29 years                                                                                         8.4\n",
       "Number; SEX AND AGE - Total population - 30 to 34 years                                                                                         1903\n",
       "Percent; SEX AND AGE - Total population - 30 to 34 years                                                                                         6.9\n",
       "Number; SEX AND AGE - Total population - 35 to 39 years                                                                                         1690\n",
       "Percent; SEX AND AGE - Total population - 35 to 39 years                                                                                         6.2\n",
       "Number; SEX AND AGE - Total population - 40 to 44 years                                                                                         1631\n",
       "Percent; SEX AND AGE - Total population - 40 to 44 years                                                                                         6.0\n",
       "Number; SEX AND AGE - Total population - 45 to 49 years                                                                                         1916\n",
       "Percent; SEX AND AGE - Total population - 45 to 49 years                                                                                         7.0\n",
       "Number; SEX AND AGE - Total population - 50 to 54 years                                                                                         2147\n",
       "Percent; SEX AND AGE - Total population - 50 to 54 years                                                                                         7.8\n",
       "Number; SEX AND AGE - Total population - 55 to 59 years                                                                                         1788\n",
       "Percent; SEX AND AGE - Total population - 55 to 59 years                                                                                         6.5\n",
       "Number; SEX AND AGE - Total population - 60 to 64 years                                                                                         1402\n",
       "                                                                                                                                           ...      \n",
       "Number; HOUSING OCCUPANCY - Total housing units - Vacant housing units - For rent                                                                419\n",
       "Percent; HOUSING OCCUPANCY - Total housing units - Vacant housing units - For rent                                                               3.3\n",
       "Number; HOUSING OCCUPANCY - Total housing units - Vacant housing units - Rented, not occupied                                                     23\n",
       "Percent; HOUSING OCCUPANCY - Total housing units - Vacant housing units - Rented, not occupied                                                   0.2\n",
       "Number; HOUSING OCCUPANCY - Total housing units - Vacant housing units - For sale only                                                           179\n",
       "Percent; HOUSING OCCUPANCY - Total housing units - Vacant housing units - For sale only                                                          1.4\n",
       "Number; HOUSING OCCUPANCY - Total housing units - Vacant housing units - Sold, not occupied                                                       37\n",
       "Percent; HOUSING OCCUPANCY - Total housing units - Vacant housing units - Sold, not occupied                                                     0.3\n",
       "Number; HOUSING OCCUPANCY - Total housing units - Vacant housing units - For seasonal, recreational, or occasional use                           433\n",
       "Percent; HOUSING OCCUPANCY - Total housing units - Vacant housing units - For seasonal, recreational, or occasional use                          3.4\n",
       "Number; HOUSING OCCUPANCY - Total housing units - Vacant housing units - All other vacants                                                       335\n",
       "Percent; HOUSING OCCUPANCY - Total housing units - Vacant housing units - All other vacants                                                      2.7\n",
       "Number; HOUSING OCCUPANCY - Total housing units - Homeowner vacancy rate (percent) [8]                                                           2.5\n",
       "Percent; HOUSING OCCUPANCY - Total housing units - Homeowner vacancy rate (percent) [8]                                                       ( X ) \n",
       "Number; HOUSING OCCUPANCY - Total housing units - Rental vacancy rate (percent) [9]                                                              9.2\n",
       "Percent; HOUSING OCCUPANCY - Total housing units - Rental vacancy rate (percent) [9]                                                          ( X ) \n",
       "Number; HOUSING TENURE - Occupied housing units                                                                                                11167\n",
       "Percent; HOUSING TENURE - Occupied housing units                                                                                               100.0\n",
       "Number; HOUSING TENURE - Occupied housing units - Owner-occupied housing units                                                                  7053\n",
       "Percent; HOUSING TENURE - Occupied housing units - Owner-occupied housing units                                                                 63.2\n",
       "Number; HOUSING TENURE - Occupied housing units - Owner-occupied housing units - Population in owner-occupied housing units                    17690\n",
       "Percent; HOUSING TENURE - Occupied housing units - Owner-occupied housing units - Population in owner-occupied housing units                  ( X ) \n",
       "Number; HOUSING TENURE - Occupied housing units - Owner-occupied housing units - Average household size of owner-occupied units                 2.51\n",
       "Percent; HOUSING TENURE - Occupied housing units - Owner-occupied housing units - Average household size of owner-occupied units              ( X ) \n",
       "Number; HOUSING TENURE - Occupied housing units - Renter-occupied housing units                                                                 4114\n",
       "Percent; HOUSING TENURE - Occupied housing units - Renter-occupied housing units                                                                36.8\n",
       "Number; HOUSING TENURE - Occupied housing units - Renter-occupied housing units - Population in renter-occupied housing units                   8593\n",
       "Percent; HOUSING TENURE - Occupied housing units - Renter-occupied housing units - Population in renter-occupied housing units                ( X ) \n",
       "Number; HOUSING TENURE - Occupied housing units - Renter-occupied housing units - Average household size of renter-occupied units               2.09\n",
       "Percent; HOUSING TENURE - Occupied housing units - Renter-occupied housing units - Average household size of renter-occupied units            ( X ) \n",
       "Name: 82601, Length: 375, dtype: object"
      ]
     },
     "execution_count": 4,
     "metadata": {},
     "output_type": "execute_result"
    }
   ],
   "source": [
    "census.loc['82601']"
   ]
  },
  {
   "cell_type": "code",
   "execution_count": 5,
   "metadata": {
    "collapsed": false
   },
   "outputs": [
    {
     "data": {
      "text/plain": [
       "27400"
      ]
     },
     "execution_count": 5,
     "metadata": {},
     "output_type": "execute_result"
    }
   ],
   "source": [
    "lkp.get_value('82601','Number; SEX AND AGE - Total population')"
   ]
  }
 ],
 "metadata": {
  "kernelspec": {
   "display_name": "Python 3",
   "language": "python",
   "name": "python3"
  },
  "language_info": {
   "codemirror_mode": {
    "name": "ipython",
    "version": 3
   },
   "file_extension": ".py",
   "mimetype": "text/x-python",
   "name": "python",
   "nbconvert_exporter": "python",
   "pygments_lexer": "ipython3",
   "version": "3.5.2"
  }
 },
 "nbformat": 4,
 "nbformat_minor": 2
}
