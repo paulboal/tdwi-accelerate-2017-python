{
 "cells": [
  {
   "cell_type": "markdown",
   "metadata": {},
   "source": [
    "# 1. Getting Procedure Costs"
   ]
  },
  {
   "cell_type": "markdown",
   "metadata": {},
   "source": [
    "# 1.1. Get the data\n",
    "\n",
    "In this first step, we're going to use a custom library that contains the code for retrieving procedure costs from the Clear Health Costs website.  The `get_sleep_prices(zip, radius)` method collects prices for _sleep_ related procedures from a range around a particular zip code.  Each call to `get_sleep_prices()` retreives more data and stores it within the same `ClearHealthCosts` variable.  When we finish getting all the sleep data we want, it'll be all together in one place.\n",
    "\n",
    "_NOTE: This may take a minute to run based on your internet connection.  If an asterix shows to the left of the code block (In [*]) that means that the code is running in the background.  Just wait._"
   ]
  },
  {
   "cell_type": "code",
   "execution_count": 1,
   "metadata": {
    "collapsed": true
   },
   "outputs": [],
   "source": [
    "%load_ext autoreload\n",
    "%autoreload 2"
   ]
  },
  {
   "cell_type": "code",
   "execution_count": 2,
   "metadata": {
    "collapsed": false
   },
   "outputs": [
    {
     "data": {
      "text/plain": [
       "<GetPrices.ClearHealthCosts at 0x107724320>"
      ]
     },
     "execution_count": 2,
     "metadata": {},
     "output_type": "execute_result"
    }
   ],
   "source": [
    "from GetPrices import ClearHealthCosts\n",
    "import pandas as pd\n",
    "\n",
    "chc = ClearHealthCosts()\n",
    "chc.get_sleep_prices('10001',100) # New York\n",
    "chc.get_sleep_prices('94016',100) # San Francisco\n",
    "chc.get_sleep_prices('33018',100) # Miami\n",
    "chc.get_sleep_prices('75001',100) # Dallas\n"
   ]
  },
  {
   "cell_type": "markdown",
   "metadata": {},
   "source": [
    "## 1.2. Format the data\n",
    "\n",
    "The `ClearHealthCosts` library can only output information as a simple nx6 matrix.  To do more interesting things with that data, we'll manually convert it to a Pandas dataframe.  From there, we can more easily compute and plot with this data."
   ]
  },
  {
   "cell_type": "code",
   "execution_count": 3,
   "metadata": {
    "collapsed": false
   },
   "outputs": [
    {
     "data": {
      "text/html": [
       "<div>\n",
       "<style>\n",
       "    .dataframe thead tr:only-child th {\n",
       "        text-align: right;\n",
       "    }\n",
       "\n",
       "    .dataframe thead th {\n",
       "        text-align: left;\n",
       "    }\n",
       "\n",
       "    .dataframe tbody tr th {\n",
       "        vertical-align: top;\n",
       "    }\n",
       "</style>\n",
       "<table border=\"1\" class=\"dataframe\">\n",
       "  <thead>\n",
       "    <tr style=\"text-align: right;\">\n",
       "      <th></th>\n",
       "      <th>price</th>\n",
       "      <th>facility</th>\n",
       "      <th>address</th>\n",
       "      <th>condition</th>\n",
       "      <th>zip</th>\n",
       "      <th>radius</th>\n",
       "      <th>city</th>\n",
       "    </tr>\n",
       "  </thead>\n",
       "  <tbody>\n",
       "    <tr>\n",
       "      <th>0</th>\n",
       "      <td>700.0</td>\n",
       "      <td>New York Sleep Disorder Center</td>\n",
       "      <td>2951 Grand Concourse Ste. IA, Bronx NY</td>\n",
       "      <td>sleep</td>\n",
       "      <td>10001</td>\n",
       "      <td>100</td>\n",
       "      <td>New York</td>\n",
       "    </tr>\n",
       "    <tr>\n",
       "      <th>1</th>\n",
       "      <td>750.0</td>\n",
       "      <td>Sleep Center of Bucks County</td>\n",
       "      <td>11 Friends Ln., Ste. 104, Newtown PA</td>\n",
       "      <td>sleep</td>\n",
       "      <td>10001</td>\n",
       "      <td>100</td>\n",
       "      <td>New York</td>\n",
       "    </tr>\n",
       "    <tr>\n",
       "      <th>2</th>\n",
       "      <td>800.0</td>\n",
       "      <td>Sleep Diagnostics of NY</td>\n",
       "      <td>69-39 Yellowstone Blvd., Ste. #1, Forest Hills NY</td>\n",
       "      <td>sleep</td>\n",
       "      <td>10001</td>\n",
       "      <td>100</td>\n",
       "      <td>New York</td>\n",
       "    </tr>\n",
       "    <tr>\n",
       "      <th>3</th>\n",
       "      <td>878.0</td>\n",
       "      <td>NYU Langone Pulmonary and Sleep Medicine</td>\n",
       "      <td>2408 Ocean Ave., Brooklyn NY</td>\n",
       "      <td>sleep</td>\n",
       "      <td>10001</td>\n",
       "      <td>100</td>\n",
       "      <td>New York</td>\n",
       "    </tr>\n",
       "    <tr>\n",
       "      <th>4</th>\n",
       "      <td>900.0</td>\n",
       "      <td>Aria Health Sleep Medicine</td>\n",
       "      <td>Bustleton Ave. and Verree Rd., Philadelphia PA</td>\n",
       "      <td>sleep</td>\n",
       "      <td>10001</td>\n",
       "      <td>100</td>\n",
       "      <td>New York</td>\n",
       "    </tr>\n",
       "  </tbody>\n",
       "</table>\n",
       "</div>"
      ],
      "text/plain": [
       "   price                                  facility  \\\n",
       "0  700.0            New York Sleep Disorder Center   \n",
       "1  750.0              Sleep Center of Bucks County   \n",
       "2  800.0                   Sleep Diagnostics of NY   \n",
       "3  878.0  NYU Langone Pulmonary and Sleep Medicine   \n",
       "4  900.0                Aria Health Sleep Medicine   \n",
       "\n",
       "                                             address condition    zip  radius  \\\n",
       "0             2951 Grand Concourse Ste. IA, Bronx NY     sleep  10001     100   \n",
       "1               11 Friends Ln., Ste. 104, Newtown PA     sleep  10001     100   \n",
       "2  69-39 Yellowstone Blvd., Ste. #1, Forest Hills NY     sleep  10001     100   \n",
       "3                       2408 Ocean Ave., Brooklyn NY     sleep  10001     100   \n",
       "4     Bustleton Ave. and Verree Rd., Philadelphia PA     sleep  10001     100   \n",
       "\n",
       "       city  \n",
       "0  New York  \n",
       "1  New York  \n",
       "2  New York  \n",
       "3  New York  \n",
       "4  New York  "
      ]
     },
     "execution_count": 3,
     "metadata": {},
     "output_type": "execute_result"
    }
   ],
   "source": [
    "df = pd.DataFrame.from_records(chc.prices())\n",
    "df.columns = ['price','facility','address','condition','zip','radius']\n",
    "df['city'] = df.zip.map({'10001':'New York', '94016':'San Francisco', '33018':'Miami', '75001':'Dallas'})\n",
    "df.head()"
   ]
  },
  {
   "cell_type": "code",
   "execution_count": 4,
   "metadata": {
    "collapsed": true
   },
   "outputs": [],
   "source": [
    "df.to_excel('./facilities.xlsx')"
   ]
  },
  {
   "cell_type": "markdown",
   "metadata": {},
   "source": [
    "## 1.3. Quick data profiling\n",
    "\n",
    "Now that we've got the data stored in a way we can use it, we'll do some quick plots to see what these data look like."
   ]
  },
  {
   "cell_type": "code",
   "execution_count": 5,
   "metadata": {
    "collapsed": false
   },
   "outputs": [
    {
     "data": {
      "text/plain": [
       "<matplotlib.axes._subplots.AxesSubplot at 0x118182400>"
      ]
     },
     "execution_count": 5,
     "metadata": {},
     "output_type": "execute_result"
    },
    {
     "data": {
      "image/png": "[encoded data removed]",
      "text/plain": [
       "<matplotlib.figure.Figure at 0x115e7ff60>"
      ]
     },
     "metadata": {},
     "output_type": "display_data"
    }
   ],
   "source": [
    "%matplotlib inline\n",
    "import seaborn as sns\n",
    "from scipy import stats, integrate\n",
    "\n",
    "sns.distplot(df.price, fit=stats.gamma)"
   ]
  },
  {
   "cell_type": "markdown",
   "metadata": {},
   "source": [
    "## 1.4 - Check for _bad data_\n",
    "\n",
    "It looks like there might be a bunch of $0 entries that we'd want to exclude, so let's get rid of those."
   ]
  },
  {
   "cell_type": "code",
   "execution_count": 6,
   "metadata": {
    "collapsed": false
   },
   "outputs": [
    {
     "name": "stdout",
     "output_type": "stream",
     "text": [
      "12 out of 83 have a  price of $0\n"
     ]
    }
   ],
   "source": [
    "total = len(df)\n",
    "zeros = sum(df.price == 0)\n",
    "print(\"{} out of {} have a  price of $0\".format(zeros, total))"
   ]
  },
  {
   "cell_type": "code",
   "execution_count": 7,
   "metadata": {
    "collapsed": false
   },
   "outputs": [
    {
     "data": {
      "text/html": [
       "<div>\n",
       "<style>\n",
       "    .dataframe thead tr:only-child th {\n",
       "        text-align: right;\n",
       "    }\n",
       "\n",
       "    .dataframe thead th {\n",
       "        text-align: left;\n",
       "    }\n",
       "\n",
       "    .dataframe tbody tr th {\n",
       "        vertical-align: top;\n",
       "    }\n",
       "</style>\n",
       "<table border=\"1\" class=\"dataframe\">\n",
       "  <thead>\n",
       "    <tr style=\"text-align: right;\">\n",
       "      <th></th>\n",
       "      <th>price</th>\n",
       "      <th>facility</th>\n",
       "      <th>address</th>\n",
       "      <th>condition</th>\n",
       "      <th>zip</th>\n",
       "      <th>radius</th>\n",
       "      <th>city</th>\n",
       "    </tr>\n",
       "  </thead>\n",
       "  <tbody>\n",
       "    <tr>\n",
       "      <th>0</th>\n",
       "      <td>700.0</td>\n",
       "      <td>New York Sleep Disorder Center</td>\n",
       "      <td>2951 Grand Concourse Ste. IA, Bronx NY</td>\n",
       "      <td>sleep</td>\n",
       "      <td>10001</td>\n",
       "      <td>100</td>\n",
       "      <td>New York</td>\n",
       "    </tr>\n",
       "    <tr>\n",
       "      <th>1</th>\n",
       "      <td>750.0</td>\n",
       "      <td>Sleep Center of Bucks County</td>\n",
       "      <td>11 Friends Ln., Ste. 104, Newtown PA</td>\n",
       "      <td>sleep</td>\n",
       "      <td>10001</td>\n",
       "      <td>100</td>\n",
       "      <td>New York</td>\n",
       "    </tr>\n",
       "    <tr>\n",
       "      <th>2</th>\n",
       "      <td>800.0</td>\n",
       "      <td>Sleep Diagnostics of NY</td>\n",
       "      <td>69-39 Yellowstone Blvd., Ste. #1, Forest Hills NY</td>\n",
       "      <td>sleep</td>\n",
       "      <td>10001</td>\n",
       "      <td>100</td>\n",
       "      <td>New York</td>\n",
       "    </tr>\n",
       "    <tr>\n",
       "      <th>3</th>\n",
       "      <td>878.0</td>\n",
       "      <td>NYU Langone Pulmonary and Sleep Medicine</td>\n",
       "      <td>2408 Ocean Ave., Brooklyn NY</td>\n",
       "      <td>sleep</td>\n",
       "      <td>10001</td>\n",
       "      <td>100</td>\n",
       "      <td>New York</td>\n",
       "    </tr>\n",
       "    <tr>\n",
       "      <th>4</th>\n",
       "      <td>900.0</td>\n",
       "      <td>Aria Health Sleep Medicine</td>\n",
       "      <td>Bustleton Ave. and Verree Rd., Philadelphia PA</td>\n",
       "      <td>sleep</td>\n",
       "      <td>10001</td>\n",
       "      <td>100</td>\n",
       "      <td>New York</td>\n",
       "    </tr>\n",
       "  </tbody>\n",
       "</table>\n",
       "</div>"
      ],
      "text/plain": [
       "   price                                  facility  \\\n",
       "0  700.0            New York Sleep Disorder Center   \n",
       "1  750.0              Sleep Center of Bucks County   \n",
       "2  800.0                   Sleep Diagnostics of NY   \n",
       "3  878.0  NYU Langone Pulmonary and Sleep Medicine   \n",
       "4  900.0                Aria Health Sleep Medicine   \n",
       "\n",
       "                                             address condition    zip  radius  \\\n",
       "0             2951 Grand Concourse Ste. IA, Bronx NY     sleep  10001     100   \n",
       "1               11 Friends Ln., Ste. 104, Newtown PA     sleep  10001     100   \n",
       "2  69-39 Yellowstone Blvd., Ste. #1, Forest Hills NY     sleep  10001     100   \n",
       "3                       2408 Ocean Ave., Brooklyn NY     sleep  10001     100   \n",
       "4     Bustleton Ave. and Verree Rd., Philadelphia PA     sleep  10001     100   \n",
       "\n",
       "       city  \n",
       "0  New York  \n",
       "1  New York  \n",
       "2  New York  \n",
       "3  New York  \n",
       "4  New York  "
      ]
     },
     "execution_count": 7,
     "metadata": {},
     "output_type": "execute_result"
    }
   ],
   "source": [
    "df = df[df.price != 0]\n",
    "df.head()"
   ]
  },
  {
   "cell_type": "markdown",
   "metadata": {},
   "source": [
    "## 1.5 - Break things down\n",
    "\n",
    "There's an interesting bubble there at $5,000 and a large skew at the low end of prices, so let's breakdown the data by which zip code we searched around.  That will show us if the bubble is specific to one region."
   ]
  },
  {
   "cell_type": "code",
   "execution_count": 8,
   "metadata": {
    "collapsed": false
   },
   "outputs": [
    {
     "data": {
      "text/plain": [
       "<matplotlib.axes._subplots.AxesSubplot at 0x11832bf98>"
      ]
     },
     "execution_count": 8,
     "metadata": {},
     "output_type": "execute_result"
    },
    {
     "data": {
      "image/png": "[encoded data removed]",
      "text/plain": [
       "<matplotlib.figure.Figure at 0x11830bbe0>"
      ]
     },
     "metadata": {},
     "output_type": "display_data"
    }
   ],
   "source": [
    "sns.violinplot(data=df, y='price', x='city')"
   ]
  },
  {
   "cell_type": "markdown",
   "metadata": {},
   "source": [
    "# 2. Getting more information about these facilities\n",
    "\n",
    "We've got some basic information about price distribution by region.  Their distributions are different, but all of them each have quite a reange of prices.  So, let's get some more information about these facilities to see if we can better understand the price distribution regardless of region."
   ]
  },
  {
   "cell_type": "markdown",
   "metadata": {},
   "source": [
    "## 2.1. Classifying the facilities\n",
    "\n",
    "We could go out to all of these facilities' websites to find out if they were an inpatient department at a hospital or a stand-alone sleep clinic.  With so many to go through, we might need to try to automate this process, though.  One way to approach that is to use natural language processing to see if the facility name gives us any clue.  It may not be perfect, but might give us a reasonably good idea.\n",
    "\n",
    "We've written a module called `ClassifyFacilities` that uses the **NLTK** library to tokenize and try to classify the facilities into a small set of groups."
   ]
  },
  {
   "cell_type": "code",
   "execution_count": 9,
   "metadata": {
    "collapsed": false
   },
   "outputs": [
    {
     "name": "stdout",
     "output_type": "stream",
     "text": [
      "[nltk_data] Downloading package stopwords to /Users/paul/nltk_data...\n",
      "[nltk_data]   Package stopwords is already up-to-date!\n",
      "[nltk_data] Downloading package punkt to /Users/paul/nltk_data...\n",
      "[nltk_data]   Package punkt is already up-to-date!\n"
     ]
    },
    {
     "data": {
      "text/plain": [
       "<ClassifyFacilities.ClassifyFacilities at 0x1184fdb00>"
      ]
     },
     "execution_count": 9,
     "metadata": {},
     "output_type": "execute_result"
    }
   ],
   "source": [
    "from ClassifyFacilities import ClassifyFacilities\n",
    "places = ['New','York','Miami','San','Francisco','Dallas',\n",
    "          'NY','FL','Florida','CA','California','TX','Texas',\n",
    "          'sleep','east','north','west','south']\n",
    "num_clusters = 3\n",
    "\n",
    "classifier = ClassifyFacilities()\n",
    "classifier.classify(df.facility, places, num_clusters)"
   ]
  },
  {
   "cell_type": "markdown",
   "metadata": {},
   "source": [
    "Below, you can see which key words were identified as the defining characteristics of each cluster and also which facilities are in each cluster."
   ]
  },
  {
   "cell_type": "code",
   "execution_count": 10,
   "metadata": {
    "collapsed": false
   },
   "outputs": [
    {
     "name": "stdout",
     "output_type": "stream",
     "text": [
      "--------------------------------------------------------------------------------\n",
      "0:diagnost,medicin,physician,hospit,institut,medic,intern,clinic,pulmonari,sleepm\n",
      "--------------------------------------------------------------------------------\n",
      "Sleep Diagnostics of NY,NYU Langone Pulmonary and Sleep Medicine,Lower Bucks Hospital,EOS Sleep Diagnostics,Sleep Disorders Institute,Sleep Medicine Associates of NYC,Bryn Mawr Hospital,Paoli Hospital for Sleep Medicine,Virtua Voorhees,Bay Sleep Clinic,North Coast Sleep Center - Santa Rosa,Santa Clara Valley Medical,SleepMed,Woodland Healthcare,Sleep Medicine Services,Virtual Imaging Miami, Hialeah Sleep Lab,Florida Sleep & Neuro Diagnostic Services Inc.,United Sleep Diagnostics Pembroke Pines,United Sleep Diagnostics Hollywood,Holy Cross Hospital,Pulmonary Physicians of South Florida, LLC,Sunrise Medical Group  Sleep Diagnostics,Choice Physicians of South Florida,International Institute of Sleep,International Institute-Sleep,Texas Medical Diagnostics Inc.,Denton Sleep Disorders Laboratory,Medical Sleep Solutions PLLC,Dow Sleep Clinic\n",
      "\n",
      "--------------------------------------------------------------------------------\n",
      "1:center,disord,disord center,medic,medic center,hospit,hospit disord,hospit disord center,merci,center disord\n",
      "--------------------------------------------------------------------------------\n",
      "New York Sleep Disorder Center,Sleep Center of Bucks County,New York Cardiovascular Associates Sleep Wake Center,LCD Sleep Management Center,Center for Sleep Medicine at Mercy Hospital,Mercy Suburban Hospital Sleep Disorders Center,Fairfield County Sleep Center,The Bronx Pulmonary Center for Pulmonary, Asthma and Sleep Disorders,Mercy Fitzgerald Hospital Sleep Disorders Center,The Sleep Center at Greenwich Hospital,Lankenau Medical Center,Sleep Center at Riddle Hospital,Center for Sleep Medicine, Weill Cornell Medical College,John T. Mather Hospital Sleep Disorders Center,Danbury Hospital Sleep Disorders Center,Sleep Disorders Center,New York Sleep, Sinus & Thyroid Surgery Center,Redwood Sleep Centers Inc.,Peninsula Sleep Center,California Center for Sleep Disorders,Sutter Pacific Medical Foundation Sleep Center,The Sunnyvale Sleep Center,Sleep Disorders Center at UCSF Medical Center at Mount Zion,Sleep Disorders Clinic Doctors Medical Center,Sleep-Wake Disorders Center of Miami,Broward Health Medical Center,Delray Medical Center,Baptist Sleep Center at Galloway,North Texas Sleep Disorders Center Neurology Associates of Arlington PA,Delta Quality Sleep Center, LLC,Texas Neurology Sleep Disorders Center,Sleep Centers of Texas,Sleep Study Center Baylor University Medical Center at Dallas\n",
      "\n",
      "--------------------------------------------------------------------------------\n",
      "2:health,univers,univers health,health center uhealth,univers health center,uhealth center,uhealth,center uhealth,center uhealth center,health center\n",
      "--------------------------------------------------------------------------------\n",
      "Aria Health Sleep Medicine,United Health Systems,University of Miami Health Center UHealth Sleep Center,University of Miami Health Center UHealth Sleep Center at Kendall,University of Miami Health Center UHealth Sleep Center at Plantation,University of Miami Hospital,University of Miami Health System at Kendall\n",
      "\n"
     ]
    }
   ],
   "source": [
    "classifier.print_clusters()"
   ]
  },
  {
   "cell_type": "markdown",
   "metadata": {},
   "source": [
    "## 2.2. Label the clusters\n",
    "\n",
    "Document clustering isn't smart enough, by itself, to put a meaningful human label on each grouping.  So, we're going to user our understanding of the context to interpret what each of the clusters mean based on the key words.\n",
    "\n",
    "Having reviewed this, it looks like anything that's related to a sleep lab or physician clinic shows up in the group that includes _physician_ as one of the key words.  Everything else is probably a hospital.  We'll go through the clusters and assign a label for anything that includes _physician_ of **clinic** and **hospital** for everything else."
   ]
  },
  {
   "cell_type": "code",
   "execution_count": 11,
   "metadata": {
    "collapsed": false
   },
   "outputs": [
    {
     "name": "stdout",
     "output_type": "stream",
     "text": [
      "{0: 'clinic', 1: 'hospital', 2: 'hospital'}\n"
     ]
    }
   ],
   "source": [
    "cluster_labels = classifier.get_cluster_names()\n",
    "for num in cluster_labels:\n",
    "    if 'physician' in cluster_labels[num]:\n",
    "        cluster_labels[num] = 'clinic'\n",
    "    else:\n",
    "        cluster_labels[num] = 'hospital'\n",
    "print(cluster_labels)\n",
    "\n",
    "df['cluster'] = classifier.get_clusters()\n",
    "df['facility_type'] = df.cluster.map(cluster_labels)"
   ]
  },
  {
   "cell_type": "markdown",
   "metadata": {},
   "source": [
    "## 2.3. Compare the distributions by label\n",
    "\n",
    "Now that we've got the label attached to each of the facilities, let's do another distribution comparison based on teh type of facility."
   ]
  },
  {
   "cell_type": "code",
   "execution_count": 12,
   "metadata": {
    "collapsed": false
   },
   "outputs": [
    {
     "data": {
      "text/plain": [
       "<matplotlib.axes._subplots.AxesSubplot at 0x11e017208>"
      ]
     },
     "execution_count": 12,
     "metadata": {},
     "output_type": "execute_result"
    },
    {
     "data": {
      "image/png": "[encoded data removed]",
      "text/plain": [
       "<matplotlib.figure.Figure at 0x11d7e6c50>"
      ]
     },
     "metadata": {},
     "output_type": "display_data"
    }
   ],
   "source": [
    "sns.violinplot(data=df, y='price', x='facility_type')"
   ]
  },
  {
   "cell_type": "markdown",
   "metadata": {},
   "source": [
    "We should also review how big each of the facility_type categories are to make sure each represents a meaningful sample size."
   ]
  },
  {
   "cell_type": "code",
   "execution_count": 14,
   "metadata": {
    "collapsed": false
   },
   "outputs": [
    {
     "data": {
      "text/plain": [
       "<matplotlib.axes._subplots.AxesSubplot at 0x1185320b8>"
      ]
     },
     "execution_count": 14,
     "metadata": {},
     "output_type": "execute_result"
    },
    {
     "data": {
      "image/png": "[encoded data removed]",
      "text/plain": [
       "<matplotlib.figure.Figure at 0x11e031e80>"
      ]
     },
     "metadata": {},
     "output_type": "display_data"
    }
   ],
   "source": [
    "sns.countplot(data=df, x='facility_type')"
   ]
  },
  {
   "cell_type": "markdown",
   "metadata": {},
   "source": [
    "Based on the even distribution between hospital and clinic facility types as well as the clear differnce in price distribution shapes, we can visually see there is likely to be some correlation between facility type and price.  Our hypothesis might be \"clinic-based sleep centers are likely to cost less than hospital-based ones.\"\n",
    "\n",
    "_I admit, we may have know that intuitively, but now we have some evidence to support our intuition.  That evidence can also now be part of a larger analysis rather than an arbitrary assumption that we cannot act on specifically._"
   ]
  },
  {
   "cell_type": "markdown",
   "metadata": {},
   "source": [
    "# 3. Bring in external data\n",
    "\n",
    "It's important to look at other external factors that might be correlated with the pricing.  Depending on what data we have access to, some of those might be proxy indicators, but they may be able to help us find a trend or cause.\n",
    "\n",
    "In this case, since much of what we're doing is regional, we're going to look at the available demographics for that region."
   ]
  },
  {
   "cell_type": "code",
   "execution_count": null,
   "metadata": {
    "collapsed": true
   },
   "outputs": [],
   "source": []
  },
  {
   "cell_type": "code",
   "execution_count": null,
   "metadata": {
    "collapsed": true
   },
   "outputs": [],
   "source": []
  },
  {
   "cell_type": "markdown",
   "metadata": {},
   "source": [
    "# 4. Look at correlations\n",
    "\n",
    "Finally, we're going to put it all together and see if we can't find some correlations that help us better understand the behavior and lead us closer to identifying potential causes for the extreme differences in cost."
   ]
  },
  {
   "cell_type": "code",
   "execution_count": null,
   "metadata": {
    "collapsed": true
   },
   "outputs": [],
   "source": []
  },
  {
   "cell_type": "markdown",
   "metadata": {},
   "source": [
    "# TODO\n",
    "\n",
    "1. Make sure the clustering works\n",
    "2. Bring in external data\n",
    "3. Run some trends\n"
   ]
  },
  {
   "cell_type": "code",
   "execution_count": null,
   "metadata": {
    "collapsed": true
   },
   "outputs": [],
   "source": []
  }
 ],
 "metadata": {
  "kernelspec": {
   "display_name": "Python 3",
   "language": "python",
   "name": "python3"
  },
  "language_info": {
   "codemirror_mode": {
    "name": "ipython",
    "version": 3
   },
   "file_extension": ".py",
   "mimetype": "text/x-python",
   "name": "python",
   "nbconvert_exporter": "python",
   "pygments_lexer": "ipython3",
   "version": "3.5.2"
  }
 },
 "nbformat": 4,
 "nbformat_minor": 0
}
